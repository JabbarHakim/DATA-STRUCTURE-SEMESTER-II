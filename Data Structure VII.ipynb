{
  "nbformat": 4,
  "nbformat_minor": 0,
  "metadata": {
    "colab": {
      "provenance": [],
      "authorship_tag": "ABX9TyO46r1wc48lKBZBjX7yFtb9",
      "include_colab_link": true
    },
    "kernelspec": {
      "name": "python3",
      "display_name": "Python 3"
    },
    "language_info": {
      "name": "python"
    }
  },
  "cells": [
    {
      "cell_type": "markdown",
      "metadata": {
        "id": "view-in-github",
        "colab_type": "text"
      },
      "source": [
        "<a href=\"https://colab.research.google.com/github/JabbarHakim/DATA-STRUCTURE-SEMESTER-II/blob/main/Data%20Structure%20VIII.ipynb\" target=\"_parent\"><img src=\"https://colab.research.google.com/assets/colab-badge.svg\" alt=\"Open In Colab\"/></a>"
      ]
    },
    {
      "cell_type": "markdown",
      "source": [
        "BINARY TREE"
      ],
      "metadata": {
        "id": "jNmPMBtbY8xD"
      }
    },
    {
      "cell_type": "code",
      "source": [
        "class Node:\n",
        "  def __init__(self, data):\n",
        "    self.data = data\n",
        "    self.left = None\n",
        "    self.right = None\n",
        "\n",
        "# Membuat tree secara manual\n",
        "root = Node(1)\n",
        "root.left = Node(2)\n",
        "root.right = Node(3)\n",
        "root.left.left = Node(4)\n",
        "root.left.right = Node(5)\n",
        "\n",
        "# Fungsi inorder traversal\n",
        "def inorder(Node):\n",
        "  if Node:\n",
        "    inorder(Node.left)\n",
        "    print(Node.data, end=\" \")\n",
        "    inorder(Node.right)\n",
        "\n",
        "print(\"Hasil inorder traversal dari binary tree : \")\n",
        "inorder(root)"
      ],
      "metadata": {
        "colab": {
          "base_uri": "https://localhost:8080/"
        },
        "id": "LUVVrJdjZH0c",
        "outputId": "39d5bc03-add5-44a1-8185-72c57951e889"
      },
      "execution_count": 7,
      "outputs": [
        {
          "output_type": "stream",
          "name": "stdout",
          "text": [
            "Hasil inorder traversal dari binary tree : \n",
            "4 2 5 1 3 "
          ]
        }
      ]
    },
    {
      "cell_type": "code",
      "source": [
        "class Node:\n",
        "  def __init__ (self, data):\n",
        "    self.data = data\n",
        "    self.left = None\n",
        "    self.right = None\n",
        "\n",
        "class BinarySearchTree:\n",
        "  def __init__ (self):\n",
        "    self.root = None\n",
        "\n",
        "  def insert(self, root, data):\n",
        "    if root is None:\n",
        "      return Node(data)\n",
        "    if data < root.data:\n",
        "      root.left = self.insert(root.left, data)\n",
        "    else:\n",
        "      root.right = self.insert(root.right, data)\n",
        "    return root\n",
        "\n",
        "bst = BinarySearchTree()\n",
        "root = None\n",
        "data_list = [50, 30, 70, 40, 20, 60, 80]\n",
        "for value in data_list:\n",
        "  root = bst.insert(root, value)"
      ],
      "metadata": {
        "id": "gBmKoMXKZni1"
      },
      "execution_count": 8,
      "outputs": []
    },
    {
      "cell_type": "code",
      "source": [
        "def inorder (node):\n",
        "  if node:\n",
        "    inorder(node.left)\n",
        "    print(node.data, end=\" \")\n",
        "    inorder(node.right)\n",
        "\n",
        "def preorder(node):\n",
        "  if node:\n",
        "    print(node.data,end=\" \")\n",
        "    preorder(node.left)\n",
        "    preorder(node.right)\n",
        "\n",
        "def postorder(node):\n",
        "  if node:\n",
        "    postorder(node.left)\n",
        "    postorder(node.right)\n",
        "    print(node.data, end=\" \")\n",
        "\n",
        "print(\"Inorder Traversal : \")\n",
        "inorder(root)\n",
        "print(\"\\nPreorder Traversal : \")\n",
        "preorder(root)\n",
        "print(\"\\nPostorder Traversal : \")\n",
        "postorder(root)"
      ],
      "metadata": {
        "colab": {
          "base_uri": "https://localhost:8080/"
        },
        "id": "F9pJjg8Ia_dd",
        "outputId": "3e562a00-5f85-45e7-a0f8-b1bbda249292"
      },
      "execution_count": 9,
      "outputs": [
        {
          "output_type": "stream",
          "name": "stdout",
          "text": [
            "Inorder Traversal : \n",
            "20 30 40 50 60 70 80 \n",
            "Preorder Traversal : \n",
            "50 30 20 40 70 60 80 \n",
            "Postorder Traversal : \n",
            "20 40 30 60 80 70 50 "
          ]
        }
      ]
    },
    {
      "cell_type": "code",
      "source": [],
      "metadata": {
        "id": "kAIt4foablct"
      },
      "execution_count": null,
      "outputs": []
    },
    {
      "cell_type": "markdown",
      "source": [
        "TUGAS / LATIHAN"
      ],
      "metadata": {
        "id": "Zp20N0qbbpWk"
      }
    },
    {
      "cell_type": "code",
      "source": [
        "class Node:\n",
        "  def __init__(self, data):\n",
        "    self.data = data\n",
        "    self.left = None\n",
        "    self.right = None\n",
        "\n",
        "# Membuat tree secara manual\n",
        "root = Node(\"Jabbar Hakim\")\n",
        "root.left = Node(\"a,i,u,e,o\")\n",
        "root.right = Node(74)\n",
        "root.left.left = Node(10)\n",
        "root.left.right = Node(11)\n",
        "\n",
        "# Fungsi inorder traversal\n",
        "def inorder(Node):\n",
        "  if Node:\n",
        "    inorder(Node.left)\n",
        "    print(Node.data, end=\" \")\n",
        "    inorder(Node.right)\n",
        "\n",
        "print(\"STRUKTUR TREE BERDASARKAN IDENTITAS SAYA\")\n",
        "print(\"Hasil inorder traversal dari binary tree : \")\n",
        "inorder(root)"
      ],
      "metadata": {
        "colab": {
          "base_uri": "https://localhost:8080/"
        },
        "id": "LruC08bhbq77",
        "outputId": "690e4b2a-631c-42db-ac9d-c024ee953889"
      },
      "execution_count": 11,
      "outputs": [
        {
          "output_type": "stream",
          "name": "stdout",
          "text": [
            "STRUKTUR TREE BERDASARKAN IDENTITAS SAYA\n",
            "Hasil inorder traversal dari binary tree : \n",
            "10 a,i,u,e,o 11 Jabbar Hakim 74 "
          ]
        }
      ]
    },
    {
      "cell_type": "code",
      "source": [
        "class Node:\n",
        "  def __init__ (self, data):\n",
        "    self.data = data\n",
        "    self.left = None\n",
        "    self.right = None\n",
        "\n",
        "class BinarySearchTree:\n",
        "  def __init__ (self):\n",
        "    self.root = None\n",
        "\n",
        "  def insert(self, root, data):\n",
        "    if root is None:\n",
        "      return Node(data)\n",
        "    if str(data) < str(root.data):\n",
        "      root.left = self.insert(root.left, data)\n",
        "    else:\n",
        "      root.right = self.insert(root.right, data)\n",
        "    return root\n",
        "\n",
        "def inorder (node):\n",
        "  if node:\n",
        "    inorder(node.left)\n",
        "    print(node.data, end=\" \")\n",
        "    inorder(node.right)\n",
        "\n",
        "def preorder(node):\n",
        "  if node:\n",
        "    print(node.data,end=\" \")\n",
        "    preorder(node.left)\n",
        "    preorder(node.right)\n",
        "\n",
        "def postorder(node):\n",
        "  if node:\n",
        "    postorder(node.left)\n",
        "    postorder(node.right)\n",
        "    print(node.data, end=\" \")\n",
        "\n",
        "bst = BinarySearchTree()\n",
        "root = None\n",
        "data_list = [74, 10, 11, \"JA\", 15, 7, 2025]\n",
        "for value in data_list:\n",
        "  root = bst.insert(root, value)\n",
        "\n",
        "\n",
        "print(\"Inorder Traversal : \")\n",
        "inorder(root)\n",
        "print(\"\\nPreorder Traversal : \")\n",
        "preorder(root)\n",
        "print(\"\\nPostorder Traversal : \")\n",
        "postorder(root)\n",
        "\n",
        "print(\"\\n\\nFitur Pencarian:\")\n",
        "search_1 = 74  # contoh: 3 digit terakhir NPM\n",
        "search_2 = 99   # contoh: angka tidak ada di list\n",
        "\n",
        "print(f\"Cari {search_1}: {'Ditemukan' if search_1 in data_list else 'Tidak ditemukan'}\")\n",
        "print(f\"Cari {search_2}: {'Ditemukan' if search_2 in data_list else 'Tidak ditemukan'}\")\n"
      ],
      "metadata": {
        "colab": {
          "base_uri": "https://localhost:8080/"
        },
        "id": "FM8S-bb7cY0G",
        "outputId": "f35e4bbf-b732-46f1-e8ec-9c64a85faa63"
      },
      "execution_count": 46,
      "outputs": [
        {
          "output_type": "stream",
          "name": "stdout",
          "text": [
            "Inorder Traversal : \n",
            "10 11 15 2025 7 74 JA \n",
            "Preorder Traversal : \n",
            "74 10 11 15 7 2025 JA \n",
            "Postorder Traversal : \n",
            "2025 7 15 11 10 JA 74 \n",
            "\n",
            "Fitur Pencarian:\n",
            "Cari 74: Ditemukan\n",
            "Cari 99: Tidak ditemukan\n"
          ]
        }
      ]
    },
    {
      "cell_type": "code",
      "source": [],
      "metadata": {
        "id": "kBX4J5OxdC_e"
      },
      "execution_count": null,
      "outputs": []
    }
  ]
}
