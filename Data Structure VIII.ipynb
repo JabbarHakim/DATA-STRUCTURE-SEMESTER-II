{
  "nbformat": 4,
  "nbformat_minor": 0,
  "metadata": {
    "colab": {
      "provenance": [],
      "authorship_tag": "ABX9TyM0iBQKts043oHbFGbip6IK",
      "include_colab_link": true
    },
    "kernelspec": {
      "name": "python3",
      "display_name": "Python 3"
    },
    "language_info": {
      "name": "python"
    }
  },
  "cells": [
    {
      "cell_type": "markdown",
      "metadata": {
        "id": "view-in-github",
        "colab_type": "text"
      },
      "source": [
        "<a href=\"https://colab.research.google.com/github/JabbarHakim/DATA-STRUCTURE-SEMESTER-II/blob/main/DATA_STRUCTURE_IX.ipynb\" target=\"_parent\"><img src=\"https://colab.research.google.com/assets/colab-badge.svg\" alt=\"Open In Colab\"/></a>"
      ]
    },
    {
      "cell_type": "markdown",
      "source": [
        "REPRESENTASI GRAF DENGAN ADJACENCY LIST"
      ],
      "metadata": {
        "id": "sDyXQQWEdxvm"
      }
    },
    {
      "cell_type": "code",
      "execution_count": null,
      "metadata": {
        "id": "4UgXtKLqcjsm",
        "colab": {
          "base_uri": "https://localhost:8080/"
        },
        "outputId": "f4d9b9a6-a219-4e0a-8966-09dbf434177e"
      },
      "outputs": [
        {
          "output_type": "stream",
          "name": "stdout",
          "text": [
            "A -> ['B', 'C']\n",
            "B -> ['A', 'D', 'E']\n",
            "C -> ['A', 'F']\n",
            "D -> ['B']\n",
            "E -> ['B', 'F']\n",
            "F -> ['C', 'E']\n"
          ]
        }
      ],
      "source": [
        "# MEMBUAT GRAF TAK BERARAH MENGGUNAKAN ADJACENCY LIST\n",
        "\n",
        "graph = {\n",
        "    'A':['B','C'],\n",
        "    'B':['A','D','E'],\n",
        "    'C':['A','F'],\n",
        "    'D':['B'],\n",
        "    'E':['B','F'],\n",
        "    'F':['C','E']\n",
        "}\n",
        "\n",
        "# MENAMPILKAN GRAF\n",
        "def print_graph(graph):\n",
        "  for node in graph:\n",
        "    print(f'{node} -> {graph[node]}')\n",
        "\n",
        "print_graph(graph)"
      ]
    },
    {
      "cell_type": "markdown",
      "source": [
        "TRAVERSAL GRAF MENGGUNAKAN BFS"
      ],
      "metadata": {
        "id": "kiQeZByUdzD2"
      }
    },
    {
      "cell_type": "code",
      "source": [
        "from collections import deque\n",
        "\n",
        "def bfs(graph, start):\n",
        "  visited = set()\n",
        "  queue = deque([start])\n",
        "\n",
        "  while queue:\n",
        "    vertex = queue.popleft()\n",
        "    if vertex not in visited:\n",
        "      print(vertex, end=' ')\n",
        "      visited.add(vertex)\n",
        "      queue.extend([neighbor for neighbor in graph[vertex] if neighbor not in visited]  )\n",
        "\n",
        "# PEMANGGILAN\n",
        "\n",
        "bfs(graph, 'A')"
      ],
      "metadata": {
        "colab": {
          "base_uri": "https://localhost:8080/"
        },
        "id": "P2QREofcd9j9",
        "outputId": "d07f2e8d-970b-46b1-f9ba-84ee4c7a3e0e"
      },
      "execution_count": null,
      "outputs": [
        {
          "output_type": "stream",
          "name": "stdout",
          "text": [
            "A B C D E F "
          ]
        }
      ]
    },
    {
      "cell_type": "markdown",
      "source": [
        "TRAVERSAL GRAF MENGGUNAKAN DFS"
      ],
      "metadata": {
        "id": "72LR_O64eyOW"
      }
    },
    {
      "cell_type": "code",
      "source": [
        "def dfs(graph, start, visited=None):\n",
        "  if visited is None:\n",
        "    visited = set()\n",
        "\n",
        "  if start not in visited:\n",
        "    print(start, end=' ')\n",
        "    visited.add(start)\n",
        "    for neighbor in graph[start]:\n",
        "      dfs(graph, neighbor, visited)\n",
        "\n",
        "# PEMANGGILAN\n",
        "dfs(graph, 'A')"
      ],
      "metadata": {
        "colab": {
          "base_uri": "https://localhost:8080/"
        },
        "id": "3R-eLLs6epoo",
        "outputId": "883211cf-7465-449d-e569-ffff65698a5e"
      },
      "execution_count": null,
      "outputs": [
        {
          "output_type": "stream",
          "name": "stdout",
          "text": [
            "A B D E F C "
          ]
        }
      ]
    },
    {
      "cell_type": "markdown",
      "source": [
        "LATIHAN PERSONAL"
      ],
      "metadata": {
        "id": "EvnnGn_afYF2"
      }
    },
    {
      "cell_type": "code",
      "source": [
        "# LENGKAPI FUNGSI UNTUK MENGHITUNG JUMLAH TETANGGA DARI SETIAP SIMPUL DALAM GRAF\n",
        "\n",
        "def count_neighbors(graph):\n",
        "  result = { }\n",
        "\n",
        "  for node in graph:\n",
        "    graph = {\n",
        "    'A':['B','C'],\n",
        "    'B':['A','D','E'],\n",
        "    'C':['A','F'],\n",
        "    'D':['B'],\n",
        "    'E':['B','F'],\n",
        "    'F':['C','E']\n",
        "}\n",
        "        # Hitung jumlah tetangga dengan mengambil panjang list tetangga\n",
        "    result[node] = len(graph[node])\n",
        "  return result\n",
        "\n",
        "\n",
        "print(count_neighbors(graph))"
      ],
      "metadata": {
        "colab": {
          "base_uri": "https://localhost:8080/"
        },
        "id": "x6JUVQGcfOhv",
        "outputId": "fa00b7e0-7e2e-4d07-ea17-78e7ece250db"
      },
      "execution_count": null,
      "outputs": [
        {
          "output_type": "stream",
          "name": "stdout",
          "text": [
            "{'A': 2, 'B': 3, 'C': 2, 'D': 1, 'E': 2, 'F': 2}\n"
          ]
        }
      ]
    },
    {
      "cell_type": "code",
      "source": [
        "#1 MEMBUAT GRAPH\n",
        "\n",
        "\n",
        "\n",
        "def create_graph():\n",
        "  graph = {\n",
        "      'A':['B','C','D','E','F',],\n",
        "      'B':['A','C','F',],\n",
        "      'C':['A','D','E','F'],\n",
        "      'D':['B','C','E'],\n",
        "      'E':['A','B','C','D','F'],\n",
        "      'F':['E','A']\n",
        "  }\n",
        "  return graph\n",
        "\n",
        "def print_graph(graph):\n",
        "  for node in graph:\n",
        "    print(f'{node} → {graph[node]}')\n",
        "\n",
        "#2 IMPLEMENTASI BFS DAN DFS\n",
        "def bfs(graph, start):\n",
        "  visited = set()\n",
        "  queue = deque ([start])\n",
        "  visited.add(start)\n",
        "\n",
        "  print(\"BFS Traversal → \")\n",
        "  while queue:\n",
        "    vertex = queue.popleft()\n",
        "    print(vertex, end = ' ')\n",
        "\n",
        "    for neighbor in graph[vertex]:\n",
        "      if neighbor not in visited:\n",
        "        visited.add(neighbor)\n",
        "        queue.extend([neighbor for neighor in graph [vertex] if neighbor not in visited])\n",
        "\n",
        "def dfs(graph, start, visited=None):\n",
        "  if visited is None:\n",
        "    visited = set()\n",
        "  visited.add(start)\n",
        "  print(start, end = ' ')\n",
        "\n",
        "  for neighbor in graph[start]:\n",
        "    if neighbor not in visited:\n",
        "      dfs(graph, neighbor, visited)\n",
        "\n",
        "def bfs_list(graph, start):\n",
        "    visited = []\n",
        "    queue = deque([start])\n",
        "    visited_set = set([start])\n",
        "\n",
        "    while queue:\n",
        "        vertex = queue.popleft()\n",
        "        visited.append(vertex)\n",
        "\n",
        "        for neighbor in graph[vertex]:\n",
        "            if neighbor not in visited_set:\n",
        "                visited_set.add(neighbor)\n",
        "                queue.append(neighbor)\n",
        "\n",
        "    return visited\n",
        "\n",
        "# 4. Fungsi find_path menggunakan DFS\n",
        "def find_path(graph, start, end, path=None):\n",
        "    if path is None:\n",
        "        path = []\n",
        "    path = path + [start]\n",
        "\n",
        "    if start == end:\n",
        "        return path\n",
        "\n",
        "    for neighbor in graph[start]:\n",
        "        if neighbor not in path:\n",
        "            new_path = find_path(graph, neighbor, end, path)\n",
        "            if new_path:\n",
        "                return new_path\n",
        "    return None\n",
        "\n",
        "# 5. Fungsi untuk mengecek konektivitas graf\n",
        "def is_connected(graph):\n",
        "    if not graph:\n",
        "        return True\n",
        "\n",
        "    start_node = next(iter(graph))\n",
        "    visited = set()\n",
        "    stack = [start_node]\n",
        "\n",
        "    while stack:\n",
        "        vertex = stack.pop()\n",
        "        if vertex not in visited:\n",
        "            visited.add(vertex)\n",
        "            stack.extend([neighbor for neighbor in graph[vertex] if neighbor not in visited])\n",
        "\n",
        "    return len(visited) == len(graph)\n",
        "\n",
        "# Need to define count_neighbors here so it's available\n",
        "# LENGKAPI FUNGSI UNTUK MENGHITUNG JUMLAH TETANGGA DARI SETIAP SIMPUL DALAM GRAF\n",
        "def count_neighbors(graph):\n",
        "  result = { }\n",
        "\n",
        "  for node in graph:\n",
        "        # Hitung jumlah tetangga dengan mengambil panjang list tetangga\n",
        "    result[node] = len(graph[node])\n",
        "  return result\n",
        "\n",
        "# Main program untuk demonstrasi\n",
        "if __name__ == \"__main__\":\n",
        "    # 1. Membuat dan menampilkan graf\n",
        "    graph = create_graph()\n",
        "    print(\"Graf yang dibuat:\")\n",
        "    print_graph(graph)\n",
        "\n",
        "    # Menghitung jumlah tetangga\n",
        "    print(\"\\nJumlah tetangga tiap simpul:\")\n",
        "    # Corrected function call\n",
        "    print(count_neighbors(graph))\n",
        "\n",
        "    # 2. BFS dan DFS\n",
        "    print(\"\\nBFS dari simpul 'A':\")\n",
        "    bfs(graph, 'A')\n",
        "\n",
        "    print(\"\\nDFS dari simpul 'A':\")\n",
        "    dfs(graph, 'A')\n",
        "    print()\n",
        "\n",
        "    # 3. BFS yang mengembalikan list\n",
        "    print(\"\\nBFS traversal (mengembalikan list):\")\n",
        "    print(bfs_list(graph, 'A'))\n",
        "\n",
        "    # 4. Mencari jalur dari 'A' ke 'E'\n",
        "    print(\"\\nJalur dari 'A' ke 'E':\")\n",
        "    print(find_path(graph, 'A', 'E'))\n",
        "\n",
        "    # 5. Mengecek konektivitas graf\n",
        "    print(\"\\nApakah graf terhubung?\")\n",
        "    print(is_connected(graph))"
      ],
      "metadata": {
        "colab": {
          "base_uri": "https://localhost:8080/"
        },
        "id": "Z0lg75PIgQFh",
        "outputId": "158ec53f-f6ed-460e-fbfb-09d0a6954c98"
      },
      "execution_count": null,
      "outputs": [
        {
          "output_type": "stream",
          "name": "stdout",
          "text": [
            "Graf yang dibuat:\n",
            "A → ['B', 'C', 'D', 'E', 'F']\n",
            "B → ['A', 'C', 'F']\n",
            "C → ['A', 'D', 'E', 'F']\n",
            "D → ['B', 'C', 'E']\n",
            "E → ['A', 'B', 'C', 'D', 'F']\n",
            "F → ['E', 'A']\n",
            "\n",
            "Jumlah tetangga tiap simpul:\n",
            "{'A': 5, 'B': 3, 'C': 4, 'D': 3, 'E': 5, 'F': 2}\n",
            "\n",
            "BFS dari simpul 'A':\n",
            "BFS Traversal → \n",
            "A \n",
            "DFS dari simpul 'A':\n",
            "A B C D E F \n",
            "\n",
            "BFS traversal (mengembalikan list):\n",
            "['A', 'B', 'C', 'D', 'E', 'F']\n",
            "\n",
            "Jalur dari 'A' ke 'E':\n",
            "['A', 'B', 'C', 'D', 'E']\n",
            "\n",
            "Apakah graf terhubung?\n",
            "True\n"
          ]
        }
      ]
    },
    {
      "cell_type": "code",
      "source": [],
      "metadata": {
        "id": "yGkvzG90p895"
      },
      "execution_count": null,
      "outputs": []
    }
  ]
}
